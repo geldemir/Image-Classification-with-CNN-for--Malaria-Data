{
 "cells": [
  {
   "cell_type": "code",
   "execution_count": null,
   "metadata": {
    "_cell_guid": "b1076dfc-b9ad-4769-8c92-a6c4dae69d19",
    "_uuid": "8f2839f25d086af736a60e9eeb907d3b93b6e0e5"
   },
   "outputs": [],
   "source": [
    "# This Python 3 environment comes with many helpful analytics libraries installed\n",
    "# It is defined by the kaggle/python Docker image: https://github.com/kaggle/docker-python\n",
    "# For example, here's several helpful packages to load\n",
    "\n",
    "import numpy as np # linear algebra\n",
    "import pandas as pd # data processing, CSV file I/O (e.g. pd.read_csv)\n",
    "\n",
    "# Input data files are available in the read-only \"../input/\" directory\n",
    "# For example, running this (by clicking run or pressing Shift+Enter) will list all files under the input directory\n",
    "\n",
    "import os\n",
    "for dirname, _, filenames in os.walk('/kaggle/input'):\n",
    "    for filename in filenames:\n",
    "        print(os.path.join(dirname, filename))\n",
    "\n",
    "# You can write up to 20GB to the current directory (/kaggle/working/) that gets preserved as output when you create a version using \"Save & Run All\" \n",
    "# You can also write temporary files to /kaggle/temp/, but they won't be saved outside of the current session"
   ]
  },
  {
   "cell_type": "markdown",
   "metadata": {},
   "source": [
    "### LİBRARİES"
   ]
  },
  {
   "cell_type": "markdown",
   "metadata": {},
   "source": []
  },
  {
   "cell_type": "code",
   "execution_count": 1,
   "metadata": {
    "execution": {
     "iopub.execute_input": "2022-12-13T01:00:46.210349Z",
     "iopub.status.busy": "2022-12-13T01:00:46.209943Z",
     "iopub.status.idle": "2022-12-13T01:00:46.217044Z",
     "shell.execute_reply": "2022-12-13T01:00:46.215878Z",
     "shell.execute_reply.started": "2022-12-13T01:00:46.210318Z"
    }
   },
   "outputs": [],
   "source": [
    "import numpy as np\n",
    "import pandas as pd\n",
    "import matplotlib.pyplot as plt\n",
    "\n",
    "from PIL import Image\n",
    "\n",
    "import tensorflow as tf\n",
    "from tensorflow.keras import Sequential\n",
    "from tensorflow.keras.layers import Conv2D,MaxPool2D,Dropout,Flatten,Dense,BatchNormalization\n",
    "from tensorflow.keras.preprocessing.image import ImageDataGenerator\n",
    "from tensorflow.keras.callbacks import EarlyStopping\n"
   ]
  },
  {
   "cell_type": "markdown",
   "metadata": {},
   "source": [
    "### DATA READİNG"
   ]
  },
  {
   "cell_type": "markdown",
   "metadata": {},
   "source": []
  },
  {
   "cell_type": "code",
   "execution_count": 2,
   "metadata": {
    "execution": {
     "iopub.execute_input": "2022-12-13T01:01:10.710191Z",
     "iopub.status.busy": "2022-12-13T01:01:10.709608Z",
     "iopub.status.idle": "2022-12-13T01:01:10.774158Z",
     "shell.execute_reply": "2022-12-13T01:01:10.772802Z",
     "shell.execute_reply.started": "2022-12-13T01:01:10.710130Z"
    }
   },
   "outputs": [
    {
     "ename": "FileNotFoundError",
     "evalue": "[Errno 2] No such file or directory: '../input/cell-images-for-detecting-malaria/cell_images/Parasitized/C100P61ThinF_IMG_20150918_144348_cell_144.png'",
     "output_type": "error",
     "traceback": [
      "\u001b[1;31m---------------------------------------------------------------------------\u001b[0m",
      "\u001b[1;31mFileNotFoundError\u001b[0m                         Traceback (most recent call last)",
      "Input \u001b[1;32mIn [2]\u001b[0m, in \u001b[0;36m<cell line: 3>\u001b[1;34m()\u001b[0m\n\u001b[0;32m      1\u001b[0m \u001b[38;5;28;01mfrom\u001b[39;00m \u001b[38;5;21;01mPIL\u001b[39;00m \u001b[38;5;28;01mimport\u001b[39;00m Image\n\u001b[1;32m----> 3\u001b[0m im \u001b[38;5;241m=\u001b[39m \u001b[43mImage\u001b[49m\u001b[38;5;241;43m.\u001b[39;49m\u001b[43mopen\u001b[49m\u001b[43m(\u001b[49m\u001b[38;5;124;43m'\u001b[39;49m\u001b[38;5;124;43m../input/cell-images-for-detecting-malaria/cell_images/Parasitized/C100P61ThinF_IMG_20150918_144348_cell_144.png\u001b[39;49m\u001b[38;5;124;43m'\u001b[39;49m\u001b[43m)\u001b[49m\n\u001b[0;32m      4\u001b[0m \u001b[38;5;28mprint\u001b[39m(im\u001b[38;5;241m.\u001b[39msize)\n\u001b[0;32m      5\u001b[0m im \u001b[38;5;241m=\u001b[39m Image\u001b[38;5;241m.\u001b[39mopen(\u001b[38;5;124m'\u001b[39m\u001b[38;5;124m../input/cell-images-for-detecting-malaria/cell_images/Parasitized/C100P61ThinF_IMG_20150918_144823_cell_160.png\u001b[39m\u001b[38;5;124m'\u001b[39m)\n",
      "File \u001b[1;32mC:\\anaconda\\lib\\site-packages\\PIL\\Image.py:2953\u001b[0m, in \u001b[0;36mopen\u001b[1;34m(fp, mode, formats)\u001b[0m\n\u001b[0;32m   2950\u001b[0m     filename \u001b[38;5;241m=\u001b[39m fp\n\u001b[0;32m   2952\u001b[0m \u001b[38;5;28;01mif\u001b[39;00m filename:\n\u001b[1;32m-> 2953\u001b[0m     fp \u001b[38;5;241m=\u001b[39m \u001b[43mbuiltins\u001b[49m\u001b[38;5;241;43m.\u001b[39;49m\u001b[43mopen\u001b[49m\u001b[43m(\u001b[49m\u001b[43mfilename\u001b[49m\u001b[43m,\u001b[49m\u001b[43m \u001b[49m\u001b[38;5;124;43m\"\u001b[39;49m\u001b[38;5;124;43mrb\u001b[39;49m\u001b[38;5;124;43m\"\u001b[39;49m\u001b[43m)\u001b[49m\n\u001b[0;32m   2954\u001b[0m     exclusive_fp \u001b[38;5;241m=\u001b[39m \u001b[38;5;28;01mTrue\u001b[39;00m\n\u001b[0;32m   2956\u001b[0m \u001b[38;5;28;01mtry\u001b[39;00m:\n",
      "\u001b[1;31mFileNotFoundError\u001b[0m: [Errno 2] No such file or directory: '../input/cell-images-for-detecting-malaria/cell_images/Parasitized/C100P61ThinF_IMG_20150918_144348_cell_144.png'"
     ]
    }
   ],
   "source": [
    "from PIL import Image\n",
    "\n",
    "im = Image.open('../input/cell-images-for-detecting-malaria/cell_images/Parasitized/C100P61ThinF_IMG_20150918_144348_cell_144.png')\n",
    "print(im.size)\n",
    "im = Image.open('../input/cell-images-for-detecting-malaria/cell_images/Parasitized/C100P61ThinF_IMG_20150918_144823_cell_160.png')\n",
    "print(im.size)\n",
    "im = Image.open('../input/cell-images-for-detecting-malaria/cell_images/Parasitized/C100P61ThinF_IMG_20150918_145422_cell_163.png')\n",
    "print(im.size)"
   ]
  },
  {
   "cell_type": "code",
   "execution_count": null,
   "metadata": {},
   "outputs": [],
   "source": [
    "import matplotlib.pyplot as plt\n",
    "plt.imshow(img)"
   ]
  },
  {
   "cell_type": "code",
   "execution_count": 5,
   "metadata": {
    "execution": {
     "iopub.execute_input": "2022-12-13T01:01:24.829928Z",
     "iopub.status.busy": "2022-12-13T01:01:24.829481Z",
     "iopub.status.idle": "2022-12-13T01:01:24.834861Z",
     "shell.execute_reply": "2022-12-13T01:01:24.834009Z",
     "shell.execute_reply.started": "2022-12-13T01:01:24.829889Z"
    }
   },
   "outputs": [],
   "source": [
    "from tensorflow.keras.preprocessing.image import ImageDataGenerator\n",
    "datagen = ImageDataGenerator(rescale=1/255.0, validation_split=0.2)"
   ]
  },
  {
   "cell_type": "code",
   "execution_count": 8,
   "metadata": {
    "execution": {
     "iopub.execute_input": "2022-12-13T01:02:12.769281Z",
     "iopub.status.busy": "2022-12-13T01:02:12.768835Z",
     "iopub.status.idle": "2022-12-13T01:02:18.077773Z",
     "shell.execute_reply": "2022-12-13T01:02:18.076304Z",
     "shell.execute_reply.started": "2022-12-13T01:02:12.769245Z"
    }
   },
   "outputs": [
    {
     "name": "stdout",
     "output_type": "stream",
     "text": [
      "Found 22048 images belonging to 2 classes.\n",
      "Found 5510 images belonging to 2 classes.\n"
     ]
    }
   ],
   "source": [
    "width, height = 128,128\n",
    "trainDatagen = datagen.flow_from_directory(directory='../input/cell-images-for-detecting-malaria/cell_images/cell_images/',\n",
    "                                           target_size=(width,height), class_mode = 'binary', batch_size = 16, \n",
    "                                           subset='training')\n",
    "\n",
    "valDatagen = datagen.flow_from_directory(directory='../input/cell-images-for-detecting-malaria/cell_images/cell_images/',\n",
    "                                           target_size=(width,height), class_mode = 'binary', batch_size = 16,\n",
    "                                           subset='validation')"
   ]
  },
  {
   "cell_type": "code",
   "execution_count": 9,
   "metadata": {
    "execution": {
     "iopub.execute_input": "2022-12-13T01:02:18.080381Z",
     "iopub.status.busy": "2022-12-13T01:02:18.079913Z",
     "iopub.status.idle": "2022-12-13T01:02:18.173860Z",
     "shell.execute_reply": "2022-12-13T01:02:18.172846Z",
     "shell.execute_reply.started": "2022-12-13T01:02:18.080338Z"
    }
   },
   "outputs": [],
   "source": [
    "model = Sequential()\n",
    "model.add(Conv2D(16,(3,3),activation='relu',input_shape=(128,128,3)))\n",
    "model.add(MaxPool2D(2,2))\n",
    "model.add(Dropout(0.2))\n",
    "\n",
    "model.add(Conv2D(32,(3,3),activation='relu'))\n",
    "model.add(MaxPool2D(2,2))\n",
    "model.add(Dropout(0.3))\n",
    "\n",
    "model.add(Conv2D(64,(3,3),activation='relu'))\n",
    "model.add(MaxPool2D(2,2))\n",
    "model.add(Dropout(0.3))\n",
    "\n",
    "model.add(Flatten())\n",
    "model.add(Dense(64,activation='relu'))\n",
    "model.add(Dropout(0.5))\n",
    "\n",
    "model.add(Dense(1,activation='sigmoid'))"
   ]
  },
  {
   "cell_type": "code",
   "execution_count": 10,
   "metadata": {
    "execution": {
     "iopub.execute_input": "2022-12-13T01:02:30.849059Z",
     "iopub.status.busy": "2022-12-13T01:02:30.848552Z",
     "iopub.status.idle": "2022-12-13T01:02:30.857217Z",
     "shell.execute_reply": "2022-12-13T01:02:30.855982Z",
     "shell.execute_reply.started": "2022-12-13T01:02:30.849021Z"
    }
   },
   "outputs": [
    {
     "name": "stdout",
     "output_type": "stream",
     "text": [
      "Model: \"sequential_1\"\n",
      "_________________________________________________________________\n",
      "Layer (type)                 Output Shape              Param #   \n",
      "=================================================================\n",
      "conv2d_3 (Conv2D)            (None, 126, 126, 16)      448       \n",
      "_________________________________________________________________\n",
      "max_pooling2d_3 (MaxPooling2 (None, 63, 63, 16)        0         \n",
      "_________________________________________________________________\n",
      "dropout_4 (Dropout)          (None, 63, 63, 16)        0         \n",
      "_________________________________________________________________\n",
      "conv2d_4 (Conv2D)            (None, 61, 61, 32)        4640      \n",
      "_________________________________________________________________\n",
      "max_pooling2d_4 (MaxPooling2 (None, 30, 30, 32)        0         \n",
      "_________________________________________________________________\n",
      "dropout_5 (Dropout)          (None, 30, 30, 32)        0         \n",
      "_________________________________________________________________\n",
      "conv2d_5 (Conv2D)            (None, 28, 28, 64)        18496     \n",
      "_________________________________________________________________\n",
      "max_pooling2d_5 (MaxPooling2 (None, 14, 14, 64)        0         \n",
      "_________________________________________________________________\n",
      "dropout_6 (Dropout)          (None, 14, 14, 64)        0         \n",
      "_________________________________________________________________\n",
      "flatten_1 (Flatten)          (None, 12544)             0         \n",
      "_________________________________________________________________\n",
      "dense_2 (Dense)              (None, 64)                802880    \n",
      "_________________________________________________________________\n",
      "dropout_7 (Dropout)          (None, 64)                0         \n",
      "_________________________________________________________________\n",
      "dense_3 (Dense)              (None, 1)                 65        \n",
      "=================================================================\n",
      "Total params: 826,529\n",
      "Trainable params: 826,529\n",
      "Non-trainable params: 0\n",
      "_________________________________________________________________\n"
     ]
    }
   ],
   "source": [
    "model.summary()"
   ]
  },
  {
   "cell_type": "code",
   "execution_count": 11,
   "metadata": {
    "execution": {
     "iopub.execute_input": "2022-12-13T01:02:49.929609Z",
     "iopub.status.busy": "2022-12-13T01:02:49.929186Z",
     "iopub.status.idle": "2022-12-13T01:02:49.946978Z",
     "shell.execute_reply": "2022-12-13T01:02:49.945489Z",
     "shell.execute_reply.started": "2022-12-13T01:02:49.929572Z"
    }
   },
   "outputs": [],
   "source": [
    "model.compile(optimizer='adam',loss='binary_crossentropy',metrics=['accuracy'])"
   ]
  },
  {
   "cell_type": "code",
   "execution_count": 12,
   "metadata": {
    "execution": {
     "iopub.execute_input": "2022-12-13T01:03:03.430425Z",
     "iopub.status.busy": "2022-12-13T01:03:03.430005Z",
     "iopub.status.idle": "2022-12-13T01:49:35.909286Z",
     "shell.execute_reply": "2022-12-13T01:49:35.908295Z",
     "shell.execute_reply.started": "2022-12-13T01:03:03.430389Z"
    }
   },
   "outputs": [
    {
     "name": "stderr",
     "output_type": "stream",
     "text": [
      "/opt/conda/lib/python3.7/site-packages/keras/engine/training.py:1972: UserWarning: `Model.fit_generator` is deprecated and will be removed in a future version. Please use `Model.fit`, which supports generators.\n",
      "  warnings.warn('`Model.fit_generator` is deprecated and '\n",
      "2022-12-13 01:03:03.611645: I tensorflow/compiler/mlir/mlir_graph_optimization_pass.cc:185] None of the MLIR Optimization Passes are enabled (registered 2)\n"
     ]
    },
    {
     "name": "stdout",
     "output_type": "stream",
     "text": [
      "Epoch 1/20\n",
      "1378/1378 [==============================] - 194s 140ms/step - loss: 0.5587 - accuracy: 0.6875 - val_loss: 0.3371 - val_accuracy: 0.8702\n",
      "Epoch 2/20\n",
      "1378/1378 [==============================] - 118s 85ms/step - loss: 0.2679 - accuracy: 0.9203 - val_loss: 0.2117 - val_accuracy: 0.9289\n",
      "Epoch 3/20\n",
      "1378/1378 [==============================] - 116s 84ms/step - loss: 0.1846 - accuracy: 0.9479 - val_loss: 0.1909 - val_accuracy: 0.9403\n",
      "Epoch 4/20\n",
      "1378/1378 [==============================] - 114s 83ms/step - loss: 0.1615 - accuracy: 0.9533 - val_loss: 0.1764 - val_accuracy: 0.9358\n",
      "Epoch 5/20\n",
      "1378/1378 [==============================] - 115s 83ms/step - loss: 0.1563 - accuracy: 0.9530 - val_loss: 0.1787 - val_accuracy: 0.9334\n",
      "Epoch 6/20\n",
      "1378/1378 [==============================] - 117s 85ms/step - loss: 0.1506 - accuracy: 0.9549 - val_loss: 0.1915 - val_accuracy: 0.9365\n",
      "Epoch 7/20\n",
      "1378/1378 [==============================] - 117s 85ms/step - loss: 0.1414 - accuracy: 0.9546 - val_loss: 0.1665 - val_accuracy: 0.9421\n",
      "Epoch 8/20\n",
      "1378/1378 [==============================] - 116s 84ms/step - loss: 0.1383 - accuracy: 0.9563 - val_loss: 0.1682 - val_accuracy: 0.9430\n",
      "Epoch 9/20\n",
      "1378/1378 [==============================] - 115s 83ms/step - loss: 0.1391 - accuracy: 0.9559 - val_loss: 0.2579 - val_accuracy: 0.9307\n",
      "Epoch 10/20\n",
      "1378/1378 [==============================] - 115s 83ms/step - loss: 0.1413 - accuracy: 0.9540 - val_loss: 0.1724 - val_accuracy: 0.9445\n",
      "Epoch 11/20\n",
      "1378/1378 [==============================] - 114s 83ms/step - loss: 0.1291 - accuracy: 0.9586 - val_loss: 0.1788 - val_accuracy: 0.9354\n",
      "Epoch 12/20\n",
      "1378/1378 [==============================] - 115s 83ms/step - loss: 0.1286 - accuracy: 0.9584 - val_loss: 0.1854 - val_accuracy: 0.9430\n",
      "Epoch 13/20\n",
      "1378/1378 [==============================] - 115s 84ms/step - loss: 0.1269 - accuracy: 0.9596 - val_loss: 0.1651 - val_accuracy: 0.9412\n",
      "Epoch 14/20\n",
      "1378/1378 [==============================] - 116s 84ms/step - loss: 0.1231 - accuracy: 0.9595 - val_loss: 0.1788 - val_accuracy: 0.9363\n",
      "Epoch 15/20\n",
      "1378/1378 [==============================] - 114s 83ms/step - loss: 0.1216 - accuracy: 0.9600 - val_loss: 0.1915 - val_accuracy: 0.9448\n",
      "Epoch 16/20\n",
      "1378/1378 [==============================] - 116s 84ms/step - loss: 0.1197 - accuracy: 0.9601 - val_loss: 0.1827 - val_accuracy: 0.9328\n",
      "Epoch 17/20\n",
      "1378/1378 [==============================] - 115s 83ms/step - loss: 0.1127 - accuracy: 0.9615 - val_loss: 0.1728 - val_accuracy: 0.9463\n",
      "Epoch 18/20\n",
      "1378/1378 [==============================] - 115s 83ms/step - loss: 0.1108 - accuracy: 0.9616 - val_loss: 0.1766 - val_accuracy: 0.9327\n",
      "Epoch 19/20\n",
      "1378/1378 [==============================] - 114s 83ms/step - loss: 0.1105 - accuracy: 0.9622 - val_loss: 0.1815 - val_accuracy: 0.9390\n",
      "Epoch 20/20\n",
      "1378/1378 [==============================] - 114s 83ms/step - loss: 0.1094 - accuracy: 0.9642 - val_loss: 0.1821 - val_accuracy: 0.9452\n"
     ]
    }
   ],
   "source": [
    "history = model.fit_generator(generator = trainDatagen, steps_per_epoch = len(trainDatagen), epochs =20, validation_data = valDatagen,\n",
    "                              validation_steps=len(valDatagen))"
   ]
  },
  {
   "cell_type": "code",
   "execution_count": 13,
   "metadata": {
    "execution": {
     "iopub.execute_input": "2022-12-13T01:51:50.870330Z",
     "iopub.status.busy": "2022-12-13T01:51:50.869917Z",
     "iopub.status.idle": "2022-12-13T01:51:50.906077Z",
     "shell.execute_reply": "2022-12-13T01:51:50.904986Z",
     "shell.execute_reply.started": "2022-12-13T01:51:50.870296Z"
    }
   },
   "outputs": [
    {
     "data": {
      "text/html": [
       "<div>\n",
       "<style scoped>\n",
       "    .dataframe tbody tr th:only-of-type {\n",
       "        vertical-align: middle;\n",
       "    }\n",
       "\n",
       "    .dataframe tbody tr th {\n",
       "        vertical-align: top;\n",
       "    }\n",
       "\n",
       "    .dataframe thead th {\n",
       "        text-align: right;\n",
       "    }\n",
       "</style>\n",
       "<table border=\"1\" class=\"dataframe\">\n",
       "  <thead>\n",
       "    <tr style=\"text-align: right;\">\n",
       "      <th></th>\n",
       "      <th>loss</th>\n",
       "      <th>accuracy</th>\n",
       "      <th>val_loss</th>\n",
       "      <th>val_accuracy</th>\n",
       "    </tr>\n",
       "  </thead>\n",
       "  <tbody>\n",
       "    <tr>\n",
       "      <th>0</th>\n",
       "      <td>0.558691</td>\n",
       "      <td>0.687500</td>\n",
       "      <td>0.337053</td>\n",
       "      <td>0.870236</td>\n",
       "    </tr>\n",
       "    <tr>\n",
       "      <th>1</th>\n",
       "      <td>0.267919</td>\n",
       "      <td>0.920310</td>\n",
       "      <td>0.211723</td>\n",
       "      <td>0.928857</td>\n",
       "    </tr>\n",
       "    <tr>\n",
       "      <th>2</th>\n",
       "      <td>0.184620</td>\n",
       "      <td>0.947932</td>\n",
       "      <td>0.190876</td>\n",
       "      <td>0.940290</td>\n",
       "    </tr>\n",
       "    <tr>\n",
       "      <th>3</th>\n",
       "      <td>0.161547</td>\n",
       "      <td>0.953284</td>\n",
       "      <td>0.176429</td>\n",
       "      <td>0.935753</td>\n",
       "    </tr>\n",
       "    <tr>\n",
       "      <th>4</th>\n",
       "      <td>0.156328</td>\n",
       "      <td>0.953012</td>\n",
       "      <td>0.178723</td>\n",
       "      <td>0.933394</td>\n",
       "    </tr>\n",
       "    <tr>\n",
       "      <th>5</th>\n",
       "      <td>0.150609</td>\n",
       "      <td>0.954871</td>\n",
       "      <td>0.191496</td>\n",
       "      <td>0.936479</td>\n",
       "    </tr>\n",
       "    <tr>\n",
       "      <th>6</th>\n",
       "      <td>0.141355</td>\n",
       "      <td>0.954599</td>\n",
       "      <td>0.166521</td>\n",
       "      <td>0.942105</td>\n",
       "    </tr>\n",
       "    <tr>\n",
       "      <th>7</th>\n",
       "      <td>0.138294</td>\n",
       "      <td>0.956323</td>\n",
       "      <td>0.168167</td>\n",
       "      <td>0.943013</td>\n",
       "    </tr>\n",
       "    <tr>\n",
       "      <th>8</th>\n",
       "      <td>0.139077</td>\n",
       "      <td>0.955869</td>\n",
       "      <td>0.257856</td>\n",
       "      <td>0.930672</td>\n",
       "    </tr>\n",
       "    <tr>\n",
       "      <th>9</th>\n",
       "      <td>0.141330</td>\n",
       "      <td>0.953964</td>\n",
       "      <td>0.172425</td>\n",
       "      <td>0.944465</td>\n",
       "    </tr>\n",
       "    <tr>\n",
       "      <th>10</th>\n",
       "      <td>0.129080</td>\n",
       "      <td>0.958590</td>\n",
       "      <td>0.178845</td>\n",
       "      <td>0.935390</td>\n",
       "    </tr>\n",
       "    <tr>\n",
       "      <th>11</th>\n",
       "      <td>0.128601</td>\n",
       "      <td>0.958364</td>\n",
       "      <td>0.185444</td>\n",
       "      <td>0.943013</td>\n",
       "    </tr>\n",
       "    <tr>\n",
       "      <th>12</th>\n",
       "      <td>0.126880</td>\n",
       "      <td>0.959588</td>\n",
       "      <td>0.165118</td>\n",
       "      <td>0.941198</td>\n",
       "    </tr>\n",
       "    <tr>\n",
       "      <th>13</th>\n",
       "      <td>0.123095</td>\n",
       "      <td>0.959497</td>\n",
       "      <td>0.178779</td>\n",
       "      <td>0.936298</td>\n",
       "    </tr>\n",
       "    <tr>\n",
       "      <th>14</th>\n",
       "      <td>0.121634</td>\n",
       "      <td>0.959951</td>\n",
       "      <td>0.191517</td>\n",
       "      <td>0.944828</td>\n",
       "    </tr>\n",
       "    <tr>\n",
       "      <th>15</th>\n",
       "      <td>0.119685</td>\n",
       "      <td>0.960132</td>\n",
       "      <td>0.182740</td>\n",
       "      <td>0.932849</td>\n",
       "    </tr>\n",
       "    <tr>\n",
       "      <th>16</th>\n",
       "      <td>0.112709</td>\n",
       "      <td>0.961538</td>\n",
       "      <td>0.172758</td>\n",
       "      <td>0.946279</td>\n",
       "    </tr>\n",
       "    <tr>\n",
       "      <th>17</th>\n",
       "      <td>0.110775</td>\n",
       "      <td>0.961629</td>\n",
       "      <td>0.176600</td>\n",
       "      <td>0.932668</td>\n",
       "    </tr>\n",
       "    <tr>\n",
       "      <th>18</th>\n",
       "      <td>0.110469</td>\n",
       "      <td>0.962219</td>\n",
       "      <td>0.181482</td>\n",
       "      <td>0.939020</td>\n",
       "    </tr>\n",
       "    <tr>\n",
       "      <th>19</th>\n",
       "      <td>0.109384</td>\n",
       "      <td>0.964214</td>\n",
       "      <td>0.182139</td>\n",
       "      <td>0.945191</td>\n",
       "    </tr>\n",
       "  </tbody>\n",
       "</table>\n",
       "</div>"
      ],
      "text/plain": [
       "        loss  accuracy  val_loss  val_accuracy\n",
       "0   0.558691  0.687500  0.337053      0.870236\n",
       "1   0.267919  0.920310  0.211723      0.928857\n",
       "2   0.184620  0.947932  0.190876      0.940290\n",
       "3   0.161547  0.953284  0.176429      0.935753\n",
       "4   0.156328  0.953012  0.178723      0.933394\n",
       "5   0.150609  0.954871  0.191496      0.936479\n",
       "6   0.141355  0.954599  0.166521      0.942105\n",
       "7   0.138294  0.956323  0.168167      0.943013\n",
       "8   0.139077  0.955869  0.257856      0.930672\n",
       "9   0.141330  0.953964  0.172425      0.944465\n",
       "10  0.129080  0.958590  0.178845      0.935390\n",
       "11  0.128601  0.958364  0.185444      0.943013\n",
       "12  0.126880  0.959588  0.165118      0.941198\n",
       "13  0.123095  0.959497  0.178779      0.936298\n",
       "14  0.121634  0.959951  0.191517      0.944828\n",
       "15  0.119685  0.960132  0.182740      0.932849\n",
       "16  0.112709  0.961538  0.172758      0.946279\n",
       "17  0.110775  0.961629  0.176600      0.932668\n",
       "18  0.110469  0.962219  0.181482      0.939020\n",
       "19  0.109384  0.964214  0.182139      0.945191"
      ]
     },
     "execution_count": 13,
     "metadata": {},
     "output_type": "execute_result"
    }
   ],
   "source": [
    "summary = pd.DataFrame(model.history.history)\n",
    "summary"
   ]
  },
  {
   "cell_type": "code",
   "execution_count": 16,
   "metadata": {
    "execution": {
     "iopub.execute_input": "2022-12-13T01:54:01.398794Z",
     "iopub.status.busy": "2022-12-13T01:54:01.398391Z",
     "iopub.status.idle": "2022-12-13T01:54:01.788222Z",
     "shell.execute_reply": "2022-12-13T01:54:01.787062Z",
     "shell.execute_reply.started": "2022-12-13T01:54:01.398762Z"
    }
   },
   "outputs": [
    {
     "data": {
      "image/png": "[encoded data removed]",
      "text/plain": [
       "<Figure size 432x288 with 1 Axes>"
      ]
     },
     "metadata": {
      "needs_background": "light"
     },
     "output_type": "display_data"
    },
    {
     "data": {
      "image/png": "[encoded data removed]",
      "text/plain": [
       "<Figure size 432x288 with 1 Axes>"
      ]
     },
     "metadata": {
      "needs_background": "light"
     },
     "output_type": "display_data"
    }
   ],
   "source": [
    "import matplotlib.pyplot as plt\n",
    "%matplotlib inline \n",
    "plt.plot(history.history[\"accuracy\"])\n",
    "plt.plot(history.history[\"val_accuracy\"])\n",
    "plt.title(\"Modelaccuracy\")\n",
    "plt.ylabel(\"Accuracy\")\n",
    "plt.xlabel(\"Epoch\")\n",
    "plt.legend([\"Train\",\"Test\"],loc=\"upper left\")\n",
    "plt.show()\n",
    "\n",
    "plt.plot(history.history[\"loss\"])\n",
    "plt.plot(history.history[\"val_loss\"])\n",
    "plt.title(\"Model loss\")\n",
    "plt.ylabel(\"loss\")\n",
    "plt.xlabel(\"Epoch\")\n",
    "plt.legend([\"Train\",\"Test\"],loc=\"upper left\")\n",
    "plt.show()"
   ]
  }
 ],
 "metadata": {
  "kernelspec": {
   "display_name": "Python 3 (ipykernel)",
   "language": "python",
   "name": "python3"
  },
  "language_info": {
   "codemirror_mode": {
    "name": "ipython",
    "version": 3
   },
   "file_extension": ".py",
   "mimetype": "text/x-python",
   "name": "python",
   "nbconvert_exporter": "python",
   "pygments_lexer": "ipython3",
   "version": "3.9.12"
  }
 },
 "nbformat": 4,
 "nbformat_minor": 4
}
