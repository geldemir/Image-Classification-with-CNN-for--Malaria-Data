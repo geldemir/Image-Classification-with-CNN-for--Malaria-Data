{
 "cells": [
  {
   "cell_type": "code",
   "execution_count": 1,
   "id": "e771e591",
   "metadata": {},
   "outputs": [],
   "source": [
    "import os\n",
    "import glob\n",
    "\n",
    "import numpy as np\n",
    "import pandas as pd\n",
    "import seaborn as sns \n",
    "import matplotlib.pyplot as plt\n",
    "from matplotlib.image import imread\n",
    "from PIL import Image\n",
    "\n",
    "import tensorflow as tf\n",
    "from tensorflow.keras import Sequential\n",
    "from tensorflow.keras.layers import Conv2D,MaxPool2D,Dropout,Flatten,Dense,BatchNormalization\n",
    "from tensorflow.keras.preprocessing.image import ImageDataGenerator\n",
    "from tensorflow.keras.callbacks import EarlyStopping\n",
    "\n",
    "\n",
    "import ssl\n",
    "ssl._create_default_https_context = ssl._create_unverified_context"
   ]
  },
  {
   "cell_type": "code",
   "execution_count": 1,
   "id": "33c75acf",
   "metadata": {},
   "outputs": [
    {
     "ename": "FileNotFoundError",
     "evalue": "[WinError 3] Sistem belirtilen yolu bulamıyor: '../input/cell_images/cell_images/'",
     "output_type": "error",
     "traceback": [
      "\u001b[1;31m---------------------------------------------------------------------------\u001b[0m",
      "\u001b[1;31mFileNotFoundError\u001b[0m                         Traceback (most recent call last)",
      "Input \u001b[1;32mIn [1]\u001b[0m, in \u001b[0;36m<cell line: 2>\u001b[1;34m()\u001b[0m\n\u001b[0;32m      1\u001b[0m \u001b[38;5;28;01mimport\u001b[39;00m \u001b[38;5;21;01mos\u001b[39;00m\n\u001b[1;32m----> 2\u001b[0m \u001b[38;5;28mprint\u001b[39m(\u001b[43mos\u001b[49m\u001b[38;5;241;43m.\u001b[39;49m\u001b[43mlistdir\u001b[49m\u001b[43m(\u001b[49m\u001b[38;5;124;43m\"\u001b[39;49m\u001b[38;5;124;43m../input/cell_images/cell_images/\u001b[39;49m\u001b[38;5;124;43m\"\u001b[39;49m\u001b[43m)\u001b[49m)\n",
      "\u001b[1;31mFileNotFoundError\u001b[0m: [WinError 3] Sistem belirtilen yolu bulamıyor: '../input/cell_images/cell_images/'"
     ]
    }
   ],
   "source": [
    "import os\n",
    "print(os.listdir(\"../input/cell_images/cell_images/\"))"
   ]
  },
  {
   "cell_type": "code",
   "execution_count": 12,
   "id": "a272825a",
   "metadata": {},
   "outputs": [],
   "source": [
    "Uninfected_malaria = r\"C:\\Users\\Sarıkaya\\Documents\\AI-YAPAYZEKA\\projects\\Image Classification with CNN for Malaria Data\"\n",
    "Infected_malaria = r\"C:\\Users\\Sarıkaya\\Documents\\AI-YAPAYZEKA\\projects\\Image Classification with CNN for Malaria Data\""
   ]
  },
  {
   "cell_type": "code",
   "execution_count": 13,
   "id": "635b2089",
   "metadata": {},
   "outputs": [],
   "source": [
    "Uninfected = os.listdir(Uninfected_malaria)\n",
    "Infected = os.listdir(Infected_malaria)"
   ]
  },
  {
   "cell_type": "code",
   "execution_count": 14,
   "id": "0d839159",
   "metadata": {},
   "outputs": [
    {
     "name": "stdout",
     "output_type": "stream",
     "text": [
      "0 : .ipynb_checkpoints\n",
      "Removed :  .ipynb_checkpoints\n",
      "0 : .ipynb_checkpoints\n",
      "Removed :  .ipynb_checkpoints\n"
     ]
    }
   ],
   "source": [
    "for i, name in enumerate(Uninfected):\n",
    "    if name[-3:] != \"png\":\n",
    "        print(f'{i} : {name}')\n",
    "        print('Removed : ', Uninfected.pop(i))\n",
    "        break\n",
    "\n",
    "for i, name in enumerate(Infected):\n",
    "    if name[-3:] != \"png\":\n",
    "        print(f'{i} : {name}')\n",
    "        print('Removed : ', Infected.pop(i))\n",
    "        break"
   ]
  },
  {
   "cell_type": "code",
   "execution_count": 15,
   "id": "b4de53b8",
   "metadata": {},
   "outputs": [
    {
     "name": "stdout",
     "output_type": "stream",
     "text": [
      "Uninfected =  3\n",
      "Infected =  3\n"
     ]
    }
   ],
   "source": [
    "print(\"Uninfected = \", len(Uninfected))\n",
    "print(\"Infected = \", len(Infected))"
   ]
  },
  {
   "cell_type": "code",
   "execution_count": null,
   "id": "74e4d149",
   "metadata": {},
   "outputs": [],
   "source": []
  },
  {
   "cell_type": "code",
   "execution_count": null,
   "id": "f013f00f",
   "metadata": {},
   "outputs": [],
   "source": []
  },
  {
   "cell_type": "code",
   "execution_count": null,
   "id": "8c3f4533",
   "metadata": {},
   "outputs": [],
   "source": []
  },
  {
   "cell_type": "code",
   "execution_count": null,
   "id": "6e941e50",
   "metadata": {},
   "outputs": [],
   "source": []
  },
  {
   "cell_type": "code",
   "execution_count": null,
   "id": "a1639686",
   "metadata": {},
   "outputs": [],
   "source": []
  },
  {
   "cell_type": "code",
   "execution_count": null,
   "id": "58706878",
   "metadata": {},
   "outputs": [],
   "source": []
  },
  {
   "cell_type": "code",
   "execution_count": null,
   "id": "ea2f73a7",
   "metadata": {},
   "outputs": [],
   "source": []
  }
 ],
 "metadata": {
  "kernelspec": {
   "display_name": "Python 3 (ipykernel)",
   "language": "python",
   "name": "python3"
  },
  "language_info": {
   "codemirror_mode": {
    "name": "ipython",
    "version": 3
   },
   "file_extension": ".py",
   "mimetype": "text/x-python",
   "name": "python",
   "nbconvert_exporter": "python",
   "pygments_lexer": "ipython3",
   "version": "3.9.12"
  }
 },
 "nbformat": 4,
 "nbformat_minor": 5
}
